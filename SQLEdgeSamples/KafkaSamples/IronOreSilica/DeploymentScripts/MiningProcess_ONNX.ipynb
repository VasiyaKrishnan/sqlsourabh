{
    "cells": [
        {
            "cell_type": "markdown",
            "source": [
                "# Predict Iron Ore Impurities (% of Silica) with ONNX in SQL Edge"
            ],
            "metadata": {
                "azdata_cell_guid": "d55aeb95-870d-4523-b353-83d4e58285d8",
                "tags": []
            }
        },
        {
            "source": [
                "## Import the required packages for this experiment to run. This script has been tested against the following packages versions\n",
                "\n",
                "azureml.core - 1.16.0.post1\n",
                "azureml.automl.core  1.16.0\n",
                "azureml.automl.runtime  1.16.0\n",
                "azureml.train.automl 1.16.0\n",
                "matplotlib - 3.3.1\n",
                "numpy -  1.16.6\n",
                "pandas - 0.23.4\n",
                "pyodbc - 4.0.30\n",
                "spicy - 1.4.1"
            ],
            "cell_type": "markdown",
            "metadata": {}
        },
        {
            "cell_type": "code",
            "source": [
                "import logging\n",
                "from matplotlib import pyplot as plt\n",
                "import numpy as np\n",
                "import pandas as pd\n",
                "import pyodbc\n",
                "\n",
                "from scipy import stats\n",
                "from scipy.stats import skew #for some statistics\n",
                "\n",
                "import azureml.core\n",
                "from azureml.core.experiment import Experiment\n",
                "from azureml.core.workspace import Workspace\n",
                "from azureml.train.automl import AutoMLConfig\n",
                "from azureml.train.automl import constants"
            ],
            "metadata": {
                "azdata_cell_guid": "5b535f9d-c8dc-4e62-8f61-caa739c6f009",
                "tags": []
            },
            "outputs": [],
            "execution_count": null
        },
        {
            "source": [
                "## Update the Subscription ID, Resource Group Name and the ML workspace name in the cell below\n"
            ],
            "cell_type": "markdown",
            "metadata": {}
        },
        {
            "cell_type": "code",
            "source": [
                "ws = Workspace(subscription_id=\"<Your_Azure_Subscription_ID>\",\n",
                "               resource_group=\"<Your_Resource_Group_Name\",\n",
                "               workspace_name=\"<Your_Azure_ML_Workspace_Name>\")\n",
                "# Choose a name for the experiment.\n",
                "experiment_name = 'silic_percent2-Forecasting-onnx'\n",
                "experiment = Experiment(ws, experiment_name)"
            ],
            "metadata": {
                "azdata_cell_guid": "4ab5e291-64df-451f-a11c-e836fbfe9c46",
                "tags": []
            },
            "outputs": [],
            "execution_count": null
        },
        {
            "cell_type": "markdown",
            "source": [
                "## Import the Data Set into a panda frame. For the purpose of the model training we are using a variation of the MiningProcess_Flotation_Plant_Database.csv file available [here](https://www.kaggle.com/edumagalhaes/quality-prediction-in-a-mining-process) from Kaggle. \r\n",
                "Update the path to the CSV file.te"
            ],
            "metadata": {
                "azdata_cell_guid": "5922f424-2f2f-4a7e-b27b-aa98232d75e5",
                "tags": []
            }
        },
        {
            "cell_type": "code",
            "source": [
                "df = pd.read_csv(\"<Path To the CSV File>\",decimal=\",\",parse_dates=[\"date\"],infer_datetime_format=True)\n",
                "df = df.drop(['date'],axis=1)\n",
                "df.describe()"
            ],
            "metadata": {
                "azdata_cell_guid": "8d892956-1176-4fbc-897a-6390d19dcd4d",
                "tags": []
            },
            "outputs": [],
            "execution_count": null
        },
        {
            "cell_type": "markdown",
            "source": [
                "## Analyze the data to identiy any skewness in the data. During this process we will look at the distribution and the skew information for each of the columns in the data frame. "
            ],
            "metadata": {
                "azdata_cell_guid": "9e9b941a-c52f-4b5a-afcc-e3f10ae7521a",
                "tags": []
            }
        },
        {
            "cell_type": "code",
            "source": [
                "## We can use a histogram chart to view the data distribution for the Dataset. In this example, we are looking at the histogram for the \"% Silica Concentrate\" \n",
                "## and the \"% Iron Feed\". From the histogram, you'll notice the data distribution is skewed for most of the features in the dataset. \n",
                "\n",
                "f, (ax1,ax2,ax3) = plt.subplots(1,3)\n",
                "ax1.hist(df['% Iron Feed'], bins='auto')\n",
                "#ax1.title = 'Iron Feed'\n",
                "ax2.hist(df['% Silica Concentrate'], bins='auto')\n",
                "#ax2.title = 'Silica Concentrate'\n",
                "ax3.hist(df['% Silica Feed'], bins='auto')\n",
                "#ax3.title = 'Silica Feed'\n",
                ""
            ],
            "metadata": {
                "azdata_cell_guid": "25e397c1-da41-45ee-8f0f-b1ccf7811879",
                "tags": []
            },
            "outputs": [],
            "execution_count": null
        },
        {
            "cell_type": "markdown",
            "source": [
                "## Check and fix the level of skweness in the data. "
            ],
            "metadata": {
                "azdata_cell_guid": "32e3b643-5c17-40f3-8e91-09ff70d46cbc"
            }
        },
        {
            "cell_type": "code",
            "source": [
                "##Check data skewness with the skew or the kurtosis function in spicy.stats\n",
                "##Skewness using the spicy.stats skew function\n",
                "for i in list(df):\n",
                "        print('Skew value for column \"{0}\" is: {1}'.format(i,skew(df[i])))"
            ],
            "metadata": {
                "azdata_cell_guid": "293b5c19-5d25-430d-a9b6-a637b4fced05",
                "tags": []
            },
            "outputs": [],
            "execution_count": null
        },
        {
            "cell_type": "code",
            "source": [
                "#Fix the Skew using Box Cox Transform\n",
                "from scipy.special import boxcox1p\n",
                "for i in list(df):\n",
                "    if(abs(skew(df[i])) >= 0.20):\n",
                "        #print('found skew in column - {0}'.format(i))\n",
                "        df[i] = boxcox1p(df[i], 0.10)\n",
                "        print('Skew value for column \"{0}\" is: {1}'.format(i,skew(df[i])))"
            ],
            "metadata": {
                "azdata_cell_guid": "9f9e0475-8eb0-4c64-b3e2-ef580ac418b2",
                "tags": []
            },
            "outputs": [],
            "execution_count": null
        },
        {
            "cell_type": "markdown",
            "source": [
                "### Check the correlation of other features with the prediction feature. If the correlation is not high, remove those features."
            ],
            "metadata": {
                "azdata_cell_guid": "e1b4c55e-8526-43b5-9d76-a7d3575024ce",
                "tags": []
            }
        },
        {
            "cell_type": "code",
            "source": [
                "silic_corr = df.corr()['% Silica Concentrate']\n",
                "silic_corr = abs(silic_corr).sort_values()\n",
                "drop_index= silic_corr.index[:8].tolist()\n",
                "df = df.drop(drop_index, axis=1)\n",
                "df.rename(columns={'Flotation Column 07 Air Flow':'Flotation Column 04 Air Flow'},inplace=True)\n",
                "df.rename(columns={'Flotation Column 04 Level':'Flotation Column 01 Level'},inplace=True)\n",
                "df.rename(columns={'Flotation Column 05 Level':'Flotation Column 02 Level'},inplace=True)\n",
                "df.rename(columns={'Flotation Column 06 Level':'Flotation Column 03 Level'},inplace=True)\n",
                "df.rename(columns={'Flotation Column 07 Level':'Flotation Column 04 Level'},inplace=True)\n",
                "df.describe()"
            ],
            "metadata": {
                "azdata_cell_guid": "a585e401-a86c-4507-8626-d5534c404ddd",
                "tags": []
            },
            "outputs": [],
            "execution_count": null
        },
        {
            "cell_type": "markdown",
            "source": [
                "### Start the AzureML Experiment to find and train the best algorithem. In this case, we are testing with all regression algorithms, with a primary metric of Normalized Root Mean Squared Error (NRMSE). For more information refer [Azure ML Experiments Primary Metric](https://docs.microsoft.com/en-us/azure/machine-learning/service/how-to-configure-auto-train#primary-metric).\r\n",
                "\r\n",
                "## The code below will start a local run of the ML experiment. "
            ],
            "metadata": {
                "azdata_cell_guid": "c979cb02-6775-4f5a-bd42-9da65a541912",
                "tags": []
            }
        },
        {
            "cell_type": "code",
            "source": [
                "## Define the X_train and the y_train data sets for the AutoML experiments. X_Train are the inputs or the features, while y_train is the outcome or the prediction result. \n",
                "\n",
                "y_train = df['% Silica Concentrate']\n",
                "x_train = df.iloc[:,0:-1]\n",
                "automl_config = AutoMLConfig(task = 'regression',\n",
                "                             primary_metric = 'normalized_root_mean_squared_error',\n",
                "                             iteration_timeout_minutes = 60,\n",
                "                             iterations = 10,                        \n",
                "                             X = x_train, \n",
                "                             y = y_train,\n",
                "                             featurization = 'off',\n",
                "                             enable_onnx_compatible_models=True)\n",
                "\n",
                ""
            ],
            "metadata": {
                "azdata_cell_guid": "5c22688a-22d7-4d7f-9298-6fac93ef065d",
                "tags": []
            },
            "outputs": [],
            "execution_count": null
        },
        {
            "cell_type": "code",
            "source": [
                "local_run = experiment.submit(automl_config, show_output = True)\n",
                "best_run, onnx_mdl = local_run.get_output(return_onnx_model=True)"
            ],
            "metadata": {
                "azdata_cell_guid": "663d30ef-9476-4fc0-ae59-8e15c9930a7c"
            },
            "outputs": [],
            "execution_count": null
        },
        {
            "cell_type": "markdown",
            "source": [
                "## Load the Model in SQL Database Edge database for local scoring. \n",
                "### Make sure to change the SQL Edge instance IP (in the format IP,PortNumber or name,PortNumber) and Password details"
            ],
            "metadata": {
                "azdata_cell_guid": "6841ecdf-204a-4237-ac5c-d5689310fc00",
                "tags": []
            }
        },
        {
            "cell_type": "code",
            "source": [
                "## Load the Model into a SQL Database.\n",
                "## Define the Connection string parameters. These connection strings will be used later also in the demo.\n",
                "server = '' # SQL Edge IP, Port address\n",
                "username = 'sa' # SQL Server username\n",
                "password = '' # SQL Server password\n",
                "database = 'IronOreSilicaPrediction'\n",
                "db_connection_string = \"Driver={ODBC Driver 17 for SQL Server};Server=\" + server + \";Database=\" + database + \";UID=\" + username + \";PWD=\" + password + \";\"\n",
                "conn = pyodbc.connect(db_connection_string, autocommit=True)\n",
                "cursor = conn.cursor()\n",
                "\n",
                "# Insert the ONNX model into the models table\n",
                "query = f\"insert into models ([description], [data]) values ('Silica_Percentage_Predict_Regression_NRMSE_New1',?)\"\n",
                "model_bits = onnx_mdl.SerializeToString()\n",
                "insert_params  = (pyodbc.Binary(model_bits))\n",
                "cursor.execute(query, insert_params)\n",
                "conn.commit()\n",
                "cursor.close()\n",
                "conn.close()"
            ],
            "metadata": {
                "azdata_cell_guid": "cd270151-b257-4ec3-822a-f65573821b6e",
                "tags": []
            },
            "outputs": [],
            "execution_count": null
        },
        {
            "cell_type": "markdown",
            "source": [
                "## Use the SQL Database Edge Model to perform perdictions using the trained model.\n",
                "### Make sure to change the SQL Edge instance IP (in the format IP,PortNumber or name,PortNumber) and Password details"
            ],
            "metadata": {
                "azdata_cell_guid": "411b7d91-5193-41f4-8b9e-fb0600d856f4",
                "tags": []
            }
        },
        {
            "cell_type": "code",
            "source": [
                "## Define the Connection string parameters. These connection strings will be used later also in the demo.\n",
                "server = '' # SQL Edge IP, Port address\n",
                "username = 'sa' # SQL Server username\n",
                "password = '' # SQL Server password\n",
                "database = 'IronOreSilicaPrediction'\n",
                "db_connection_string = \"Driver={ODBC Driver 17 for SQL Server};Server=\" + server + \";Database=\" + database + \";UID=\" + username + \";PWD=\" + password + \";\"\n",
                "conn = pyodbc.connect(db_connection_string, autocommit=True)\n",
                "#cursor = conn.cursor()\n",
                "query = \\\n",
                "        f'declare @model varbinary(max) = (Select [data] from [dbo].[Models] where [id] = 1);' \\\n",
                "        f' with d as ( SELECT  [timestamp] ,cast([cur_Iron_Feed] as real) [__Iron_Feed] ,cast([cur_Silica_Feed]  as real) [__Silica_Feed]' \\\n",
                "        f',cast([cur_Starch_Flow] as real) [Starch_Flow],cast([cur_Amina_Flow] as real) [Amina_Flow]' \\\n",
                "        f' ,cast([cur_Ore_Pulp_pH] as real) [Ore_Pulp_pH] ,cast([cur_Flotation_Column_01_Air_Flow] as real) [Flotation_Column_01_Air_Flow]' \\\n",
                "        f' ,cast([cur_Flotation_Column_02_Air_Flow] as real) [Flotation_Column_02_Air_Flow]' \\\n",
                "        f' ,cast([cur_Flotation_Column_03_Air_Flow] as real) [Flotation_Column_03_Air_Flow]' \\\n",
                "        f' ,cast([cur_Flotation_Column_04_Air_Flow] as real) [Flotation_Column_04_Air_Flow]' \\\n",
                "        f' ,cast([cur_Flotation_Column_01_Level] as real) [Flotation_Column_01_Level]' \\\n",
                "        f' ,cast([cur_Flotation_Column_02_Level] as real) [Flotation_Column_02_Level]' \\\n",
                "        f' ,cast([cur_Flotation_Column_03_Level] as real) [Flotation_Column_03_Level]' \\\n",
                "        f' ,cast([cur_Flotation_Column_04_Level] as real) [Flotation_Column_04_Level]' \\\n",
                "        f' ,cast([cur_Iron_Concentrate] as real) [__Iron_Concentrate]' \\\n",
                "        f' FROM [dbo].[IronOreMeasurements]' \\\n",
                "        f' where timestamp between dateadd(minute,-10,getdate()) and getdate()) ' \\\n",
                "        f' SELECT d.*, p.variable_out1' \\\n",
                "        f' FROM PREDICT(MODEL = @model, DATA = d, Runtime=ONNX) WITH(variable_out1 numeric(25,17)) as p;' \n",
                "  \n",
                "df_result = pd.read_sql(query,conn)\n",
                "df_result.describe()\n",
                "\n"
            ],
            "metadata": {
                "azdata_cell_guid": "8229fbb0-7d58-47f8-8909-04039f73a318",
                "tags": []
            },
            "outputs": [],
            "execution_count": null
        },
        {
            "cell_type": "markdown",
            "source": [
                "## Use Python to create a chart of the Predcited Silica Percentage against the Iron Feed, Datetime, Silica Feed."
            ],
            "metadata": {
                "azdata_cell_guid": "c49ca256-e14e-4f3a-b493-4509d284d67a"
            }
        },
        {
            "cell_type": "code",
            "source": [
                "import plotly.graph_objects as go\n",
                "fig = go.Figure()\n",
                "fig.add_trace(go.Scatter(x=df_result['timestamp'],y=df_result['__Iron_Feed'],mode='lines+markers',name='Iron Feed',line=dict(color='firebrick', width=2)))\n",
                "fig.add_trace(go.Scatter(x=df_result['timestamp'],y=df_result['__Silica_Feed'],mode='lines+markers',name='Silica Feed',line=dict(color='green', width=2)))\n",
                "fig.add_trace(go.Scatter(x=df_result['timestamp'],y=df_result['variable_out1'],mode='lines+markers',name='Silica Percent',line=dict(color='royalblue', width=3)))\n",
                "fig.update_layout(height= 600, width=1500,xaxis_title='Time')\n",
                "fig.show()"
            ],
            "metadata": {
                "azdata_cell_guid": "d0784012-79b7-467c-83d6-91d5d53207fe",
                "tags": []
            },
            "outputs": [],
            "execution_count": null
        }
    ],
    "metadata": {
        "kernelspec": {
            "name": "Python 3.7.8 64-bit",
            "display_name": "Python 3.7.8 64-bit",
            "metadata": {
                "interpreter": {
                    "hash": "57baa5815c940fdaff4d14510622de9616cae602444507ba5d0b6727c008cbd6"
                }
            }
        },
        "language_info": {
            "name": "python",
            "version": "3.7.8-final"
        }
    },
    "nbformat": 4,
    "nbformat_minor": 2
}